{
 "cells": [
  {
   "cell_type": "markdown",
   "id": "30cf72e8",
   "metadata": {},
   "source": [
    "# Homework assignment 3\n",
    "Return this notebook (filled with your answers) by the deadline via mycourses.  Also provide pdf printout of the notebook.\n",
    "\n",
    "Note that the notebook that you submit needs to work, that is, if running it produces errors, then that may result in reduction of points.\n",
    "\n",
    "The first two questions related to lecture notes by Prof. Ollila and the last two questions to lecture notes by Prof. Vorobyov. \n",
    "\n",
    "_My name_: XXXX <br>\n",
    "_My student number_: XXXX"
   ]
  },
  {
   "cell_type": "code",
   "execution_count": 1,
   "id": "d3c24997",
   "metadata": {},
   "outputs": [],
   "source": [
    "import pandas as pd\n",
    "from sklearn import linear_model as LM"
   ]
  },
  {
   "cell_type": "code",
   "execution_count": 2,
   "id": "b2448bed",
   "metadata": {},
   "outputs": [],
   "source": [
    "import numpy as np\n",
    "import matplotlib\n",
    "import matplotlib.pyplot as plt\n",
    "import seaborn as sns\n",
    "matplotlib.rcParams['figure.figsize'] = (8.0, 8.0)"
   ]
  },
  {
   "cell_type": "markdown",
   "id": "31676c3e",
   "metadata": {},
   "source": [
    "***"
   ]
  },
  {
   "cell_type": "markdown",
   "id": "c32aa650",
   "metadata": {},
   "source": [
    "##  Question 1: look at the data (basic operations)  \n",
    "Load the data in _prostate.txt_ to your workspace. You can consult the file _prostate.info.txt_ for description of  the data set. "
   ]
  },
  {
   "cell_type": "code",
   "execution_count": 3,
   "id": "f0bba7a8",
   "metadata": {
    "scrolled": true
   },
   "outputs": [
    {
     "data": {
      "text/html": [
       "<div>\n",
       "<style scoped>\n",
       "    .dataframe tbody tr th:only-of-type {\n",
       "        vertical-align: middle;\n",
       "    }\n",
       "\n",
       "    .dataframe tbody tr th {\n",
       "        vertical-align: top;\n",
       "    }\n",
       "\n",
       "    .dataframe thead th {\n",
       "        text-align: right;\n",
       "    }\n",
       "</style>\n",
       "<table border=\"1\" class=\"dataframe\">\n",
       "  <thead>\n",
       "    <tr style=\"text-align: right;\">\n",
       "      <th></th>\n",
       "      <th>Unnamed: 0</th>\n",
       "      <th>lcavol</th>\n",
       "      <th>lweight</th>\n",
       "      <th>age</th>\n",
       "      <th>lbph</th>\n",
       "      <th>svi</th>\n",
       "      <th>lcp</th>\n",
       "      <th>gleason</th>\n",
       "      <th>pgg45</th>\n",
       "      <th>lpsa</th>\n",
       "      <th>train</th>\n",
       "    </tr>\n",
       "  </thead>\n",
       "  <tbody>\n",
       "    <tr>\n",
       "      <th>0</th>\n",
       "      <td>1</td>\n",
       "      <td>-0.579818</td>\n",
       "      <td>2.769459</td>\n",
       "      <td>50</td>\n",
       "      <td>-1.386294</td>\n",
       "      <td>0</td>\n",
       "      <td>-1.386294</td>\n",
       "      <td>6</td>\n",
       "      <td>0</td>\n",
       "      <td>-0.430783</td>\n",
       "      <td>T</td>\n",
       "    </tr>\n",
       "    <tr>\n",
       "      <th>1</th>\n",
       "      <td>2</td>\n",
       "      <td>-0.994252</td>\n",
       "      <td>3.319626</td>\n",
       "      <td>58</td>\n",
       "      <td>-1.386294</td>\n",
       "      <td>0</td>\n",
       "      <td>-1.386294</td>\n",
       "      <td>6</td>\n",
       "      <td>0</td>\n",
       "      <td>-0.162519</td>\n",
       "      <td>T</td>\n",
       "    </tr>\n",
       "    <tr>\n",
       "      <th>2</th>\n",
       "      <td>3</td>\n",
       "      <td>-0.510826</td>\n",
       "      <td>2.691243</td>\n",
       "      <td>74</td>\n",
       "      <td>-1.386294</td>\n",
       "      <td>0</td>\n",
       "      <td>-1.386294</td>\n",
       "      <td>7</td>\n",
       "      <td>20</td>\n",
       "      <td>-0.162519</td>\n",
       "      <td>T</td>\n",
       "    </tr>\n",
       "    <tr>\n",
       "      <th>3</th>\n",
       "      <td>4</td>\n",
       "      <td>-1.203973</td>\n",
       "      <td>3.282789</td>\n",
       "      <td>58</td>\n",
       "      <td>-1.386294</td>\n",
       "      <td>0</td>\n",
       "      <td>-1.386294</td>\n",
       "      <td>6</td>\n",
       "      <td>0</td>\n",
       "      <td>-0.162519</td>\n",
       "      <td>T</td>\n",
       "    </tr>\n",
       "    <tr>\n",
       "      <th>4</th>\n",
       "      <td>5</td>\n",
       "      <td>0.751416</td>\n",
       "      <td>3.432373</td>\n",
       "      <td>62</td>\n",
       "      <td>-1.386294</td>\n",
       "      <td>0</td>\n",
       "      <td>-1.386294</td>\n",
       "      <td>6</td>\n",
       "      <td>0</td>\n",
       "      <td>0.371564</td>\n",
       "      <td>T</td>\n",
       "    </tr>\n",
       "    <tr>\n",
       "      <th>...</th>\n",
       "      <td>...</td>\n",
       "      <td>...</td>\n",
       "      <td>...</td>\n",
       "      <td>...</td>\n",
       "      <td>...</td>\n",
       "      <td>...</td>\n",
       "      <td>...</td>\n",
       "      <td>...</td>\n",
       "      <td>...</td>\n",
       "      <td>...</td>\n",
       "      <td>...</td>\n",
       "    </tr>\n",
       "    <tr>\n",
       "      <th>92</th>\n",
       "      <td>93</td>\n",
       "      <td>2.830268</td>\n",
       "      <td>3.876396</td>\n",
       "      <td>68</td>\n",
       "      <td>-1.386294</td>\n",
       "      <td>1</td>\n",
       "      <td>1.321756</td>\n",
       "      <td>7</td>\n",
       "      <td>60</td>\n",
       "      <td>4.385147</td>\n",
       "      <td>T</td>\n",
       "    </tr>\n",
       "    <tr>\n",
       "      <th>93</th>\n",
       "      <td>94</td>\n",
       "      <td>3.821004</td>\n",
       "      <td>3.896909</td>\n",
       "      <td>44</td>\n",
       "      <td>-1.386294</td>\n",
       "      <td>1</td>\n",
       "      <td>2.169054</td>\n",
       "      <td>7</td>\n",
       "      <td>40</td>\n",
       "      <td>4.684443</td>\n",
       "      <td>T</td>\n",
       "    </tr>\n",
       "    <tr>\n",
       "      <th>94</th>\n",
       "      <td>95</td>\n",
       "      <td>2.907447</td>\n",
       "      <td>3.396185</td>\n",
       "      <td>52</td>\n",
       "      <td>-1.386294</td>\n",
       "      <td>1</td>\n",
       "      <td>2.463853</td>\n",
       "      <td>7</td>\n",
       "      <td>10</td>\n",
       "      <td>5.143124</td>\n",
       "      <td>F</td>\n",
       "    </tr>\n",
       "    <tr>\n",
       "      <th>95</th>\n",
       "      <td>96</td>\n",
       "      <td>2.882564</td>\n",
       "      <td>3.773910</td>\n",
       "      <td>68</td>\n",
       "      <td>1.558145</td>\n",
       "      <td>1</td>\n",
       "      <td>1.558145</td>\n",
       "      <td>7</td>\n",
       "      <td>80</td>\n",
       "      <td>5.477509</td>\n",
       "      <td>T</td>\n",
       "    </tr>\n",
       "    <tr>\n",
       "      <th>96</th>\n",
       "      <td>97</td>\n",
       "      <td>3.471966</td>\n",
       "      <td>3.974998</td>\n",
       "      <td>68</td>\n",
       "      <td>0.438255</td>\n",
       "      <td>1</td>\n",
       "      <td>2.904165</td>\n",
       "      <td>7</td>\n",
       "      <td>20</td>\n",
       "      <td>5.582932</td>\n",
       "      <td>F</td>\n",
       "    </tr>\n",
       "  </tbody>\n",
       "</table>\n",
       "<p>97 rows × 11 columns</p>\n",
       "</div>"
      ],
      "text/plain": [
       "    Unnamed: 0    lcavol   lweight  age      lbph  svi       lcp  gleason  \\\n",
       "0            1 -0.579818  2.769459   50 -1.386294    0 -1.386294        6   \n",
       "1            2 -0.994252  3.319626   58 -1.386294    0 -1.386294        6   \n",
       "2            3 -0.510826  2.691243   74 -1.386294    0 -1.386294        7   \n",
       "3            4 -1.203973  3.282789   58 -1.386294    0 -1.386294        6   \n",
       "4            5  0.751416  3.432373   62 -1.386294    0 -1.386294        6   \n",
       "..         ...       ...       ...  ...       ...  ...       ...      ...   \n",
       "92          93  2.830268  3.876396   68 -1.386294    1  1.321756        7   \n",
       "93          94  3.821004  3.896909   44 -1.386294    1  2.169054        7   \n",
       "94          95  2.907447  3.396185   52 -1.386294    1  2.463853        7   \n",
       "95          96  2.882564  3.773910   68  1.558145    1  1.558145        7   \n",
       "96          97  3.471966  3.974998   68  0.438255    1  2.904165        7   \n",
       "\n",
       "    pgg45      lpsa train  \n",
       "0       0 -0.430783     T  \n",
       "1       0 -0.162519     T  \n",
       "2      20 -0.162519     T  \n",
       "3       0 -0.162519     T  \n",
       "4       0  0.371564     T  \n",
       "..    ...       ...   ...  \n",
       "92     60  4.385147     T  \n",
       "93     40  4.684443     T  \n",
       "94     10  5.143124     F  \n",
       "95     80  5.477509     T  \n",
       "96     20  5.582932     F  \n",
       "\n",
       "[97 rows x 11 columns]"
      ]
     },
     "execution_count": 3,
     "metadata": {},
     "output_type": "execute_result"
    }
   ],
   "source": [
    "data_table = pd.read_csv('prostate.txt', sep='\\t')\n",
    "predictors=list(data_table.columns[1:-2])\n",
    "data_table"
   ]
  },
  {
   "cell_type": "markdown",
   "id": "4c874d74",
   "metadata": {},
   "source": [
    "### 1 a)\n",
    "Make a  scatterplot matrix of the prostate cancer variables,  where the first row shows the response against each of the predictors in turn. <br>\n",
    "_Hint_: you should get the same picture that  is displayed in Figure 1.1., page 3,  of  Hastie et al. (2017). \n",
    "https://hastie.su.domains/ElemStatLearn/printings/ESLII_print12_toc.pdf"
   ]
  },
  {
   "cell_type": "code",
   "execution_count": 4,
   "id": "7b8c0251",
   "metadata": {},
   "outputs": [],
   "source": [
    "# write solution here"
   ]
  },
  {
   "cell_type": "markdown",
   "id": "670d32bd",
   "metadata": {},
   "source": [
    "### 1 b)\n",
    "Center  and standardize all predictors to have mean zero and unit sample variance"
   ]
  },
  {
   "cell_type": "code",
   "execution_count": 5,
   "id": "d6042c69",
   "metadata": {},
   "outputs": [],
   "source": [
    "# write solution here"
   ]
  },
  {
   "cell_type": "markdown",
   "id": "2638eb37",
   "metadata": {},
   "source": [
    "## 1 c) \n",
    "Split data into the training and test sets, according to the labels in the last column in _prostate.txt_."
   ]
  },
  {
   "cell_type": "code",
   "execution_count": 6,
   "id": "4af76058",
   "metadata": {},
   "outputs": [],
   "source": [
    "# write solution here"
   ]
  },
  {
   "cell_type": "markdown",
   "id": "144a5c65",
   "metadata": {},
   "source": [
    "### 1 d)\n",
    "* Fit a LS linear regression (with intercept) on the training set.  Report the estimated regression coefficients\n",
    "* Plot the residuals versus observation number. \n",
    "\n",
    "Hint: you should get exactly the same results as given in Table 3.2, page 50, of Hastie et al., (2009) and shown below: \n",
    "\n",
    "<img style=\"width:600px\" src=\"ESLII_table3dot2.png\">"
   ]
  },
  {
   "cell_type": "markdown",
   "id": "9c1d1aba",
   "metadata": {},
   "source": [
    "### 1 e)\n",
    "Compute the prediction error (PE) on the test set, where PE is defined as \n",
    "$$ \\mbox{PE} = \\frac{1}{N_{test}} \\sum_{i \\in I_{test}} (y_i - \\hat y_i)^2.$$\n",
    "where  $ I_{test}$ denotes the indices in the test set.  "
   ]
  },
  {
   "cell_type": "code",
   "execution_count": 7,
   "id": "91976653",
   "metadata": {},
   "outputs": [],
   "source": [
    "# write solution here "
   ]
  },
  {
   "cell_type": "markdown",
   "id": "49776dc2",
   "metadata": {},
   "source": [
    "### 1 f)\n",
    "* Compute and report the correlation matrix of predictors variables in the training set.\n",
    "* Identify the largest correlation between the predictors and report it in the form: <br>\n",
    "<code>max correlation (3 decimal accuracy) is  XXX  between predictors  XXX and  XXX.</code>\n",
    "<br>\n",
    "\n",
    "**Hint:** you should get **exactly the same values** as in Table 3.1 of Hastie et al (2017, 12th printing, p. 50) and shown below:\n",
    "\n",
    "<img style=\"width:600px\" src=\"ESLII_table3dot1.png\">"
   ]
  },
  {
   "cell_type": "code",
   "execution_count": 8,
   "id": "1bea615d",
   "metadata": {},
   "outputs": [],
   "source": [
    "# write solution here"
   ]
  },
  {
   "cell_type": "markdown",
   "id": "c6648022",
   "metadata": {},
   "source": [
    "<hr/>"
   ]
  },
  {
   "cell_type": "markdown",
   "id": "c20258cd",
   "metadata": {},
   "source": [
    "## Question 2: Cyclic Coordinate Descent (CCD) for lasso and elastic net\n",
    "Read lecture notes discussing the cyclic coordinate descent algorithm (Esa's lecture notes) for lasso and elastic net. <br>"
   ]
  },
  {
   "cell_type": "markdown",
   "id": "67b229e7",
   "metadata": {},
   "source": [
    "### 2 a) \n",
    "Implement the basic CCD Elastic Net (EN) algorithm (<code>ccden</code>) (see *Algorithm 6.1*) by yourself by writing a function named <code>ccden</code> below.  Recall that this algorithm assumes that the predictors are standardized."
   ]
  },
  {
   "cell_type": "code",
   "execution_count": 9,
   "id": "3404fdd9",
   "metadata": {},
   "outputs": [],
   "source": [
    "def ccden(y, X, b_init, lam, alpha=1.0, delta=1e-4, max_iter=10000):\n",
    "    \n",
    "    # your code here \n",
    " \n",
    "    return beta_hat"
   ]
  },
  {
   "cell_type": "markdown",
   "id": "032edcb0",
   "metadata": {},
   "source": [
    "### 2 b) \n",
    "But did my code work? Let's check this out.  So your <code>ccden</code> function has produced you an estimate  that minimizes $\\frac{1}{2N} \\| \\mathbf{y} - \\mathbf{X} \\boldsymbol{\\beta} \\|_2^2 + \\lambda \\alpha \\| \\boldsymbol{\\beta}\\|_1 + \\frac 1 2 \\lambda (1- \\alpha)\\|\\boldsymbol{\\beta} \\|_2^2 $.  Recall the subgradient optimality conditions:  $\\hat{\\boldsymbol{\\beta}}$ is the solution for EN optimization problem with penalty parameter if and only if equation (6.4) in Lecture notes holds.\n",
    "\n",
    "Perform these steps:\n",
    "1. First center both the response and predictor variables of the prostate cancer training data set you created in 1(c). \n",
    "2. Then standardize the predictors. \n",
    "3. Give this training data as inputs to <code>ccden</code> function to find the solution $\\hat{\\boldsymbol{\\beta}}(\\lambda,\\alpha)$  with a penalty parameter value $\\lambda=0.3$ and $\\alpha=1$ (lasso) and $\\alpha=0.9$. The initial value of iteration <code>beta_init</code> should be a vector of zeros.\n",
    "4. Report the solutions \n",
    "5. Verify that  the subgradient optimality condition holds for your solutions.   <br>\n",
    "\n",
    "**Note**: Essentially, items 1 and 2 perform Steps 1 and 2 of Algorithm 5.1  of Esa's lecture notes.  "
   ]
  },
  {
   "cell_type": "code",
   "execution_count": 10,
   "id": "b276bac3",
   "metadata": {},
   "outputs": [],
   "source": [
    "lam = 0.3 # This is the penalty for lasso\n",
    "al = 0.9 # This is the EN penalty parameter"
   ]
  },
  {
   "cell_type": "code",
   "execution_count": 11,
   "id": "f244ecc2",
   "metadata": {
    "scrolled": true
   },
   "outputs": [],
   "source": [
    "# step 1 and 2: center and standardize"
   ]
  },
  {
   "cell_type": "code",
   "execution_count": 12,
   "id": "08e4fe77",
   "metadata": {},
   "outputs": [],
   "source": [
    "# step 3: compute solutions "
   ]
  },
  {
   "cell_type": "code",
   "execution_count": 13,
   "id": "a24e5a20",
   "metadata": {
    "scrolled": true
   },
   "outputs": [],
   "source": [
    "# step 4: report the solutions"
   ]
  },
  {
   "cell_type": "code",
   "execution_count": 14,
   "id": "ab7e8d4e",
   "metadata": {},
   "outputs": [],
   "source": [
    "# step 5: verify that subgradient equations hold:"
   ]
  },
  {
   "cell_type": "markdown",
   "id": "9cdb9e61",
   "metadata": {},
   "source": [
    "**Note**: You can verify that your code works by checking that  it returns the same value as the following code: "
   ]
  },
  {
   "cell_type": "code",
   "execution_count": null,
   "id": "359103c6",
   "metadata": {},
   "outputs": [],
   "source": [
    "# y0 and X0 are here the centered / standardized data from 2b)\n",
    "regLasso0 = LM.Lasso(fit_intercept=False,alpha=lam).fit(X0, y0)\n",
    "regEN0 = LM.ElasticNet(fit_intercept=False,alpha=lam,l1_ratio=al).fit(X0, y0)\n",
    "beta_las_star = regLasso0.coef_\n",
    "beta_en_star = regEN0.coef_\n",
    "pd.DataFrame(data=(beta_las_star, beta_en_star))"
   ]
  },
  {
   "cell_type": "markdown",
   "id": "315e1c1f",
   "metadata": {},
   "source": [
    "### 2c) \n",
    "Then transform the obtained estimates to original scale and compute the intercept, i.e., apply steps 4 and 5 of *Algorithm 5.1*. Report the obtained values of regression coefficents  $\\hat{\\boldsymbol{\\beta}}(\\lambda,\\alpha)$ and intercept $\\hat{\\beta}_0(\\lambda,\\alpha)$ when $(\\lambda,\\alpha) =(0.3,1)$  and $(\\lambda,\\alpha)= (0,3,0.9)$. Note that former ($\\alpha=1$) yields the lasso solution for the original training data $\\mathbf{y}$ and $\\mathbf{X}$. Compare the found lasso and EN solution with the LSE solution you computed in question 1d). "
   ]
  },
  {
   "cell_type": "code",
   "execution_count": 16,
   "id": "093dc348",
   "metadata": {},
   "outputs": [],
   "source": [
    "# solution comes here "
   ]
  },
  {
   "cell_type": "markdown",
   "id": "e2bd382c",
   "metadata": {},
   "source": [
    "***"
   ]
  },
  {
   "cell_type": "markdown",
   "id": "2245f015",
   "metadata": {},
   "source": [
    "## Question 3: FISTA for lasso\n",
    "### 3a)\n",
    "Implement FISTA for the lasso problem (see Lecture notes by prof. Vorobyov, pp. 33)  by yourself by writing a function named <code>fistalasso</code>. "
   ]
  },
  {
   "cell_type": "code",
   "execution_count": 25,
   "id": "0c2f963b",
   "metadata": {},
   "outputs": [],
   "source": [
    "# def fistalasso  ... \n"
   ]
  },
  {
   "cell_type": "markdown",
   "id": "616afaab",
   "metadata": {},
   "source": [
    "### 3 b) \n",
    "Use the same data set as in question 2b). Show the convergence graphs (as in Assignment 1) for both FISTA and CCD and compare. \n",
    "Use the value <code>beta_las_star</code> (obtained in Note of question 2b)  as the true optimum $\\boldsymbol{\\beta}^*$ of the lasso objective function.   "
   ]
  },
  {
   "cell_type": "code",
   "execution_count": 26,
   "id": "ad6a0a95",
   "metadata": {},
   "outputs": [],
   "source": [
    "# compute the values"
   ]
  },
  {
   "cell_type": "code",
   "execution_count": 27,
   "id": "d41fc055",
   "metadata": {},
   "outputs": [],
   "source": [
    "# show convergerence graph "
   ]
  },
  {
   "cell_type": "markdown",
   "id": "f8722a3f",
   "metadata": {},
   "source": [
    "***\n",
    "## Question 4: Alternating Direction Method of Multipliers for lasso\n",
    "### 4 a)\n",
    "Implement Alternating Direction Method of Multipliers (ADMM) for the lasso problem (see Lecture notes by prof. Vorobyov,  pp. 34) by yourself by writing a function named <code>admmlasso</code>.  Use $\\rho=1$ in the ADMM algorithm.  "
   ]
  },
  {
   "cell_type": "code",
   "execution_count": 28,
   "id": "0def6f7e",
   "metadata": {},
   "outputs": [],
   "source": [
    "# def admmlasso ..."
   ]
  },
  {
   "cell_type": "markdown",
   "id": "c107f71d",
   "metadata": {},
   "source": [
    "### 4b)\n",
    "Show the convergence graph of ADMM implementation and compare it to that of FISTA and CCD from the previous problems."
   ]
  },
  {
   "cell_type": "code",
   "execution_count": 29,
   "id": "ba6df1a2",
   "metadata": {},
   "outputs": [],
   "source": [
    "# compute the values"
   ]
  },
  {
   "cell_type": "code",
   "execution_count": 30,
   "id": "bae453af",
   "metadata": {},
   "outputs": [],
   "source": [
    "# show convergerence graph "
   ]
  },
  {
   "cell_type": "code",
   "execution_count": null,
   "id": "4ecec8d3",
   "metadata": {},
   "outputs": [],
   "source": []
  }
 ],
 "metadata": {
  "kernelspec": {
   "display_name": "Python 3 (ipykernel)",
   "language": "python",
   "name": "python3"
  },
  "language_info": {
   "codemirror_mode": {
    "name": "ipython",
    "version": 3
   },
   "file_extension": ".py",
   "mimetype": "text/x-python",
   "name": "python",
   "nbconvert_exporter": "python",
   "pygments_lexer": "ipython3",
   "version": "3.9.13"
  }
 },
 "nbformat": 4,
 "nbformat_minor": 5
}
